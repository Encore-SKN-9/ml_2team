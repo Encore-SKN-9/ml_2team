{
 "cells": [
  {
   "cell_type": "code",
   "execution_count": 1,
   "metadata": {},
   "outputs": [
    {
     "name": "stdout",
     "output_type": "stream",
     "text": [
      "Collecting xgboost\n",
      "  Downloading xgboost-2.1.3-py3-none-win_amd64.whl.metadata (2.1 kB)\n",
      "Requirement already satisfied: numpy in c:\\users\\owner\\anaconda3\\envs\\study_env\\lib\\site-packages (from xgboost) (2.2.1)\n",
      "Requirement already satisfied: scipy in c:\\users\\owner\\anaconda3\\envs\\study_env\\lib\\site-packages (from xgboost) (1.15.1)\n",
      "Downloading xgboost-2.1.3-py3-none-win_amd64.whl (124.9 MB)\n",
      "   ---------------------------------------- 0.0/124.9 MB ? eta -:--:--\n",
      "   --- ------------------------------------ 12.1/124.9 MB 53.9 MB/s eta 0:00:03\n",
      "   -------- ------------------------------- 25.2/124.9 MB 59.0 MB/s eta 0:00:02\n",
      "   ----------- ---------------------------- 35.9/124.9 MB 55.6 MB/s eta 0:00:02\n",
      "   --------------- ------------------------ 46.9/124.9 MB 55.3 MB/s eta 0:00:02\n",
      "   ---------------- ----------------------- 51.6/124.9 MB 49.1 MB/s eta 0:00:02\n",
      "   ----------------- ---------------------- 56.1/124.9 MB 44.1 MB/s eta 0:00:02\n",
      "   --------------------- ------------------ 66.3/124.9 MB 44.5 MB/s eta 0:00:02\n",
      "   ------------------------- -------------- 78.9/124.9 MB 46.6 MB/s eta 0:00:01\n",
      "   -------------------------- ------------- 82.6/124.9 MB 43.2 MB/s eta 0:00:01\n",
      "   ------------------------------ --------- 94.9/124.9 MB 44.9 MB/s eta 0:00:01\n",
      "   --------------------------------- ----- 108.0/124.9 MB 46.3 MB/s eta 0:00:01\n",
      "   ------------------------------------- - 120.6/124.9 MB 47.5 MB/s eta 0:00:01\n",
      "   --------------------------------------- 124.9/124.9 MB 45.3 MB/s eta 0:00:00\n",
      "Installing collected packages: xgboost\n",
      "Successfully installed xgboost-2.1.3\n"
     ]
    }
   ],
   "source": [
    "# !pip install xgboost"
   ]
  },
  {
   "cell_type": "code",
   "execution_count": 2,
   "metadata": {},
   "outputs": [
    {
     "name": "stdout",
     "output_type": "stream",
     "text": [
      "Collecting lightgbm\n",
      "  Downloading lightgbm-4.5.0-py3-none-win_amd64.whl.metadata (17 kB)\n",
      "Requirement already satisfied: numpy>=1.17.0 in c:\\users\\owner\\anaconda3\\envs\\study_env\\lib\\site-packages (from lightgbm) (2.2.1)\n",
      "Requirement already satisfied: scipy in c:\\users\\owner\\anaconda3\\envs\\study_env\\lib\\site-packages (from lightgbm) (1.15.1)\n",
      "Downloading lightgbm-4.5.0-py3-none-win_amd64.whl (1.4 MB)\n",
      "   ---------------------------------------- 0.0/1.4 MB ? eta -:--:--\n",
      "   ---------------------------------------- 1.4/1.4 MB 38.1 MB/s eta 0:00:00\n",
      "Installing collected packages: lightgbm\n",
      "Successfully installed lightgbm-4.5.0\n"
     ]
    }
   ],
   "source": [
    "# !pip install lightgbm"
   ]
  },
  {
   "cell_type": "code",
   "execution_count": 3,
   "metadata": {},
   "outputs": [],
   "source": [
    "import pandas as pd\n",
    "import numpy as np\n",
    "from sklearn.model_selection import train_test_split\n",
    "from sklearn.metrics import accuracy_score, classification_report\n",
    "from xgboost import XGBClassifier\n",
    "from lightgbm import LGBMClassifier\n",
    "from sklearn.preprocessing import MinMaxScaler"
   ]
  },
  {
   "cell_type": "code",
   "execution_count": 6,
   "metadata": {},
   "outputs": [],
   "source": [
    "import warnings\n",
    "warnings.filterwarnings('ignore')"
   ]
  },
  {
   "cell_type": "code",
   "execution_count": 4,
   "metadata": {},
   "outputs": [],
   "source": [
    "# 1. CSV 파일 불러오기\n",
    "data = pd.read_csv('../Data/preprocessed_movies_data.csv')\n",
    "\n",
    "# 2. 필요한 컬럼만 선택\n",
    "features = ['grossWorldWide', 'gross_US_Canada', 'opening_weekend_Gross', 'budget', 'Rating', \n",
    "            'Votes', 'Category', 'directors', 'stars', 'production_companies']\n",
    "data = data[features]\n",
    "\n",
    "# 3. 쉼표로 구분된 값을 리스트로 분리\n",
    "def split_to_list(column):\n",
    "    return column.apply(lambda x: [item.strip() for item in x.split(',')])\n",
    "\n",
    "data['directors'] = split_to_list(data['directors'])\n",
    "data['stars'] = split_to_list(data['stars'])\n",
    "data['production_companies'] = split_to_list(data['production_companies'])\n",
    "\n",
    "# 4. 타겟 인코딩\n",
    "categorical_features = ['Category', 'directors', 'stars', 'production_companies']\n",
    "for feature in categorical_features:\n",
    "    if feature in ['directors', 'stars', 'production_companies']:\n",
    "        data[feature] = data[feature].apply(lambda x: ', '.join(x))\n",
    "    mean_target = data.groupby(feature)['grossWorldWide'].mean()\n",
    "    data[feature] = data[feature].map(mean_target)\n",
    "\n",
    "# 5. 데이터 정규화\n",
    "target_features = ['grossWorldWide', 'gross_US_Canada', 'opening_weekend_Gross', 'budget', 'Rating', 'Votes']\n",
    "scaler = MinMaxScaler()\n",
    "data[target_features] = scaler.fit_transform(data[target_features])"
   ]
  },
  {
   "cell_type": "code",
   "execution_count": 7,
   "metadata": {},
   "outputs": [
    {
     "name": "stdout",
     "output_type": "stream",
     "text": [
      "[LightGBM] [Info] Number of positive: 6378, number of negative: 2182\n",
      "[LightGBM] [Info] Auto-choosing col-wise multi-threading, the overhead of testing was 0.000251 seconds.\n",
      "You can set `force_col_wise=true` to remove the overhead.\n",
      "[LightGBM] [Info] Total Bins 1868\n",
      "[LightGBM] [Info] Number of data points in the train set: 8560, number of used features: 9\n",
      "[LightGBM] [Info] [binary:BoostFromScore]: pavg=0.745093 -> initscore=1.072613\n",
      "[LightGBM] [Info] Start training from score 1.072613\n",
      "XGBoost Accuracy: 0.9929906542056075\n",
      "LightGBM Accuracy: 0.9948598130841122\n",
      "\n",
      "XGBoost Classification Report:\n",
      "               precision    recall  f1-score   support\n",
      "\n",
      "           0       0.98      0.99      0.99       530\n",
      "           1       1.00      0.99      1.00      1610\n",
      "\n",
      "    accuracy                           0.99      2140\n",
      "   macro avg       0.99      0.99      0.99      2140\n",
      "weighted avg       0.99      0.99      0.99      2140\n",
      "\n",
      "\n",
      "LightGBM Classification Report:\n",
      "               precision    recall  f1-score   support\n",
      "\n",
      "           0       0.98      1.00      0.99       530\n",
      "           1       1.00      0.99      1.00      1610\n",
      "\n",
      "    accuracy                           0.99      2140\n",
      "   macro avg       0.99      1.00      0.99      2140\n",
      "weighted avg       0.99      0.99      0.99      2140\n",
      "\n"
     ]
    }
   ],
   "source": [
    "# 6. 흥행 기준 설정\n",
    "# 예산 대비 수익이 1배 이상이면 흥행(1), 아니면 비흥행(0)\n",
    "data['target'] = (data['grossWorldWide'] >= data['budget']).astype(int)\n",
    "\n",
    "# 7. 학습 및 테스트 데이터 분리\n",
    "X = data.drop(['target', 'grossWorldWide'], axis=1)  # 타겟 및 불필요 컬럼 제거\n",
    "y = data['target']\n",
    "\n",
    "X_train, X_test, y_train, y_test = train_test_split(X, y, test_size=0.2, random_state=42)\n",
    "\n",
    "# 8. XGBoost 모델 학습\n",
    "xgb_model = XGBClassifier(use_label_encoder=False, eval_metric='logloss')\n",
    "xgb_model.fit(X_train, y_train)\n",
    "\n",
    "# 9. LightGBM 모델 학습\n",
    "lgbm_model = LGBMClassifier()\n",
    "lgbm_model.fit(X_train, y_train)\n",
    "\n",
    "# 10. 예측 및 평가\n",
    "xgb_pred = xgb_model.predict(X_test)\n",
    "lgbm_pred = lgbm_model.predict(X_test)\n",
    "\n",
    "print(\"XGBoost Accuracy:\", accuracy_score(y_test, xgb_pred))    # 정확도: 전체 데이터에서 예측이 맞은 비율\n",
    "print(\"LightGBM Accuracy:\", accuracy_score(y_test, lgbm_pred))\n",
    "\n",
    "print(\"\\nXGBoost Classification Report:\\n\", classification_report(y_test, xgb_pred))    # 정밀도, 재현율, F1-score 통해 모델 성능을 세부적으로 평가\n",
    "print(\"\\nLightGBM Classification Report:\\n\", classification_report(y_test, lgbm_pred))"
   ]
  },
  {
   "cell_type": "markdown",
   "metadata": {},
   "source": [
    "## 결과\n",
    "\n",
    "#### 1. 모델 성능\n",
    "- 정확도 (Accuracy):\n",
    "    - XGBoost: 99.30%\n",
    "    - LightGBM: 99.49%\n",
    "    - → 두 모델 모두 매우 높은 정확도를 기록하였으며, LightGBM이 약간 더 높은 성능을 보임\n",
    "\n",
    "\n",
    "- 정밀도 (Precision), 재현율 (Recall), F1-score: 클래스 0(비흥행)과 클래스 1(흥행) 모두 0.98 이상\n",
    "    - 클래스 1(흥행)의 경우 정밀도, 재현율, F1-score가 거의 완벽에 가까운 값 → 이는 모델이 흥행 여부를 매우 잘 예측하고 있음을 보여줌\n",
    "\n",
    "#### 2. 데이터 불균형\n",
    "- 클래스 분포:\n",
    "    - 클래스 1(흥행): 6378개 (약 74.5%)\n",
    "    - 클래스 0(비흥행): 2182개 (약 25.5%)"
   ]
  },
  {
   "cell_type": "markdown",
   "metadata": {},
   "source": [
    "----\n",
    "## 특성 중요도 분석\n",
    "- 어떤 특성이 LightGBM 모델 성능에 가장 큰 영향을 미쳤는 지 파악하기 위함 -> 전략 수립 및 데이터 수집 방향 설정"
   ]
  },
  {
   "cell_type": "code",
   "execution_count": 8,
   "metadata": {},
   "outputs": [
    {
     "data": {
      "image/png": "[encoded data removed]",
      "text/plain": [
       "<Figure size 1000x600 with 1 Axes>"
      ]
     },
     "metadata": {},
     "output_type": "display_data"
    }
   ],
   "source": [
    "import matplotlib.pyplot as plt\n",
    "import seaborn as sns\n",
    "\n",
    "# 특성 중요도 가져오기\n",
    "feature_importances = lgbm_model.feature_importances_\n",
    "feature_names = X.columns\n",
    "\n",
    "# 데이터프레임으로 정리\n",
    "importance_df = pd.DataFrame({'Feature': feature_names, 'Importance': feature_importances})\n",
    "importance_df = importance_df.sort_values(by='Importance', ascending=False)\n",
    "\n",
    "# 시각화\n",
    "plt.figure(figsize=(10, 6))\n",
    "sns.barplot(x='Importance', y='Feature', data=importance_df)\n",
    "plt.title('Feature Importance')\n",
    "plt.xlabel('Importance Score')\n",
    "plt.ylabel('Features')\n",
    "plt.tight_layout()\n",
    "plt.show()"
   ]
  },
  {
   "cell_type": "markdown",
   "metadata": {},
   "source": [
    "#### 결과\n",
    "- 모델 성능에 큰 영향을 미치는 것: \n",
    "    - budget(예산)이 가장 중요한 특성 > stars(출연 배우) > production_companies(제작사) \n",
    "- 흥행을 좌우하는 주요 요인:\n",
    "    - budget (예산): 높은 예산이 더 큰 스케일의 영화 제작, 유명 배우 섭외, 대규모 마케팅 등을 가능하게 하기 때문\n",
    "    - stars (출연 배우): 유명 배우들이 영화의 대중성을 높이고 더 많은 관객을 끌어들이는 효과를 발휘하기 때문\n",
    "    - production_companies (제작사): 영화의 품질과 홍보 역량에 영향을 미치는 주요 요소로, 성공적인 제작사와 협업할수록 흥행 가능성이 높아지는 경향이 있을 수 있음\n",
    "- 두 번째 요인:\n",
    "    - 감독(directors)과 북미 수익(gross_US_Canada): 특정 감독의 브랜드 파워와 북미 시장에서의 초기 성공이 영화 전체 흥행에 중요한 지표가 될 수 있음을 보여줌\n",
    "- 상대적으로 덜 중요한 요인:\n",
    "    - 영화의 개봉 첫 주 수익(opening_weekend_Gross)와 평가 점수(Rating)는 상대적으로 덜 중요한 것으로 보임. \n",
    "    - -> 이는 초기 흥행보다 장기적인 흥행이 전체적인 성공을 더 잘 설명할 수 있음을 나타냄."
   ]
  },
  {
   "cell_type": "markdown",
   "metadata": {},
   "source": [
    "----\n",
    "### 데이터 불균형 문제 - 앙상블 기법 (Balanced Random Forest)\n",
    "**데이터 불균형 문제 해결**:\n",
    " - 영화 흥행 여부(0/1)가 불균형 데이터를 가지므로, BRF는 소수 클래스를 과소평가하지 않고 균형 잡힌 학습이 가능합니다.\n",
    " - 결과적으로, 소수 클래스(흥행 실패)의 Recall이 높아졌고, 이는 예측 신뢰도를 높이는 데 기여했습니다.\n"
   ]
  },
  {
   "cell_type": "code",
   "execution_count": 10,
   "metadata": {},
   "outputs": [
    {
     "name": "stdout",
     "output_type": "stream",
     "text": [
      "Collecting imbalanced-learn\n",
      "  Downloading imbalanced_learn-0.13.0-py3-none-any.whl.metadata (8.8 kB)\n",
      "Requirement already satisfied: numpy<3,>=1.24.3 in c:\\users\\owner\\anaconda3\\envs\\study_env\\lib\\site-packages (from imbalanced-learn) (2.2.1)\n",
      "Requirement already satisfied: scipy<2,>=1.10.1 in c:\\users\\owner\\anaconda3\\envs\\study_env\\lib\\site-packages (from imbalanced-learn) (1.15.1)\n",
      "Requirement already satisfied: scikit-learn<2,>=1.3.2 in c:\\users\\owner\\anaconda3\\envs\\study_env\\lib\\site-packages (from imbalanced-learn) (1.6.1)\n",
      "Collecting sklearn-compat<1,>=0.1 (from imbalanced-learn)\n",
      "  Downloading sklearn_compat-0.1.3-py3-none-any.whl.metadata (18 kB)\n",
      "Requirement already satisfied: joblib<2,>=1.1.1 in c:\\users\\owner\\anaconda3\\envs\\study_env\\lib\\site-packages (from imbalanced-learn) (1.4.2)\n",
      "Requirement already satisfied: threadpoolctl<4,>=2.0.0 in c:\\users\\owner\\anaconda3\\envs\\study_env\\lib\\site-packages (from imbalanced-learn) (3.5.0)\n",
      "Downloading imbalanced_learn-0.13.0-py3-none-any.whl (238 kB)\n",
      "Downloading sklearn_compat-0.1.3-py3-none-any.whl (18 kB)\n",
      "Installing collected packages: sklearn-compat, imbalanced-learn\n",
      "Successfully installed imbalanced-learn-0.13.0 sklearn-compat-0.1.3\n"
     ]
    }
   ],
   "source": [
    "# !pip install imbalanced-learn"
   ]
  },
  {
   "cell_type": "code",
   "execution_count": 11,
   "metadata": {},
   "outputs": [
    {
     "name": "stdout",
     "output_type": "stream",
     "text": [
      "Balanced Random Forest Accuracy: 0.9897196261682243\n",
      "\n",
      "Classification Report with Balanced Random Forest:\n",
      "               precision    recall  f1-score   support\n",
      "\n",
      "           0       0.96      1.00      0.98       530\n",
      "           1       1.00      0.99      0.99      1610\n",
      "\n",
      "    accuracy                           0.99      2140\n",
      "   macro avg       0.98      0.99      0.99      2140\n",
      "weighted avg       0.99      0.99      0.99      2140\n",
      "\n"
     ]
    }
   ],
   "source": [
    "from imblearn.ensemble import BalancedRandomForestClassifier\n",
    "\n",
    "# 균형 랜덤 포레스트 학습\n",
    "brf_model = BalancedRandomForestClassifier(random_state=42)\n",
    "brf_model.fit(X_train, y_train)\n",
    "y_pred_brf = brf_model.predict(X_test)\n",
    "\n",
    "print(\"Balanced Random Forest Accuracy:\", accuracy_score(y_test, y_pred_brf))\n",
    "print(\"\\nClassification Report with Balanced Random Forest:\\n\", classification_report(y_test, y_pred_brf))\n"
   ]
  },
  {
   "cell_type": "markdown",
   "metadata": {},
   "source": [
    "#### **최종 결론**\n",
    "1. **주요 요인 분석**:\n",
    " - 흥행 예측에 가장 중요한 요인은 `budget`(예산), `stars`(배우), `production_companies`(제작사)\n",
    "\n",
    "2. **최종 인사이트**:\n",
    " - 예산(`budget`)과 배우(`stars`)를 중심으로 투자 전략을 최적화하면, 흥행 가능성을 높일 수 있음.\n",
    " - 실패 가능성이 높은 프로젝트를 사전에 식별하여 리스크를 줄일 수 있습니다.\n"
   ]
  }
 ],
 "metadata": {
  "kernelspec": {
   "display_name": "study_env",
   "language": "python",
   "name": "python3"
  },
  "language_info": {
   "codemirror_mode": {
    "name": "ipython",
    "version": 3
   },
   "file_extension": ".py",
   "mimetype": "text/x-python",
   "name": "python",
   "nbconvert_exporter": "python",
   "pygments_lexer": "ipython3",
   "version": "3.12.8"
  }
 },
 "nbformat": 4,
 "nbformat_minor": 2
}
